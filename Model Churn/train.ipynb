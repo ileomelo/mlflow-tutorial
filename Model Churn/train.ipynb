{
 "cells": [
  {
   "cell_type": "code",
   "execution_count": 22,
   "metadata": {},
   "outputs": [],
   "source": [
    "import pandas as pd\n",
    "from sklearn import model_selection\n",
    "from sklearn import tree\n",
    "from sklearn import metrics\n",
    "from sklearn import ensemble"
   ]
  },
  {
   "cell_type": "code",
   "execution_count": 23,
   "metadata": {},
   "outputs": [
    {
     "data": {
      "text/plain": [
       "<Experiment: artifact_location='mlflow-artifacts:/259446872080643201', creation_time=1742932040990, experiment_id='259446872080643201', last_update_time=1742932040990, lifecycle_stage='active', name='exp_churn', tags={}>"
      ]
     },
     "execution_count": 23,
     "metadata": {},
     "output_type": "execute_result"
    }
   ],
   "source": [
    "import mlflow\n",
    "\n",
    "mlflow.set_tracking_uri(\"http://localhost:5000/\")\n",
    "mlflow.set_experiment(experiment_id=259446872080643201)"
   ]
  },
  {
   "cell_type": "code",
   "execution_count": 24,
   "metadata": {},
   "outputs": [
    {
     "data": {
      "application/vnd.microsoft.datawrangler.viewer.v0+json": {
       "columns": [
        {
         "name": "index",
         "rawType": "int64",
         "type": "integer"
        },
        {
         "name": "dt_ref",
         "rawType": "object",
         "type": "string"
        },
        {
         "name": "id_cliente",
         "rawType": "object",
         "type": "string"
        },
        {
         "name": "dias_primeira_iteracao_life",
         "rawType": "int64",
         "type": "integer"
        },
        {
         "name": "dias_ultima_iteracao_life",
         "rawType": "int64",
         "type": "integer"
        },
        {
         "name": "qtd_iteracoes_life",
         "rawType": "int64",
         "type": "integer"
        },
        {
         "name": "saldo_atual_life",
         "rawType": "int64",
         "type": "integer"
        },
        {
         "name": "pontos_acum_life",
         "rawType": "int64",
         "type": "integer"
        },
        {
         "name": "pontos_neg_life",
         "rawType": "int64",
         "type": "integer"
        },
        {
         "name": "frequencia_life",
         "rawType": "int64",
         "type": "integer"
        },
        {
         "name": "pontos_acum_dia_life",
         "rawType": "float64",
         "type": "float"
        },
        {
         "name": "qtd_mensagens_life",
         "rawType": "int64",
         "type": "integer"
        },
        {
         "name": "qtd_resgate_poneis_life",
         "rawType": "int64",
         "type": "integer"
        },
        {
         "name": "mensagens_dia_life",
         "rawType": "float64",
         "type": "float"
        },
        {
         "name": "pct_transacao_dia01_life",
         "rawType": "float64",
         "type": "float"
        },
        {
         "name": "pct_transacao_dia02_life",
         "rawType": "float64",
         "type": "float"
        },
        {
         "name": "pct_transacao_dia03_life",
         "rawType": "float64",
         "type": "float"
        },
        {
         "name": "pct_transacao_dia04_life",
         "rawType": "float64",
         "type": "float"
        },
        {
         "name": "pct_transacao_dia05_life",
         "rawType": "float64",
         "type": "float"
        },
        {
         "name": "pct_transacao_dia06_life",
         "rawType": "float64",
         "type": "float"
        },
        {
         "name": "pct_transacao_dia07_life",
         "rawType": "float64",
         "type": "float"
        },
        {
         "name": "pct_transacao_manha_life",
         "rawType": "float64",
         "type": "float"
        },
        {
         "name": "pct_transacao_tarde_life",
         "rawType": "float64",
         "type": "float"
        },
        {
         "name": "pct_transacao_noite_life",
         "rawType": "float64",
         "type": "float"
        },
        {
         "name": "media_dias_recorrencia_life",
         "rawType": "float64",
         "type": "float"
        },
        {
         "name": "mediana_dias_recorrencia_life",
         "rawType": "float64",
         "type": "float"
        },
        {
         "name": "dias_primeira_iteracao_d7",
         "rawType": "float64",
         "type": "float"
        },
        {
         "name": "dias_ultima_iteracao_d7",
         "rawType": "float64",
         "type": "float"
        },
        {
         "name": "qtd_iteracoes_d7",
         "rawType": "float64",
         "type": "float"
        },
        {
         "name": "saldo_atual_d7",
         "rawType": "float64",
         "type": "float"
        },
        {
         "name": "pontos_acum_d7",
         "rawType": "float64",
         "type": "float"
        },
        {
         "name": "pontos_neg_d7",
         "rawType": "float64",
         "type": "float"
        },
        {
         "name": "frequencia_d7",
         "rawType": "float64",
         "type": "float"
        },
        {
         "name": "pontos_acum_dia_d7",
         "rawType": "float64",
         "type": "float"
        },
        {
         "name": "qtd_mensagens_d7",
         "rawType": "float64",
         "type": "float"
        },
        {
         "name": "qtd_resgate_poneis_d7",
         "rawType": "float64",
         "type": "float"
        },
        {
         "name": "mensagens_dia_d7",
         "rawType": "float64",
         "type": "float"
        },
        {
         "name": "pct_transacao_dia01_d7",
         "rawType": "float64",
         "type": "float"
        },
        {
         "name": "pct_transacao_dia02_d7",
         "rawType": "float64",
         "type": "float"
        },
        {
         "name": "pct_transacao_dia03_d7",
         "rawType": "float64",
         "type": "float"
        },
        {
         "name": "pct_transacao_dia04_d7",
         "rawType": "float64",
         "type": "float"
        },
        {
         "name": "pct_transacao_dia05_d7",
         "rawType": "float64",
         "type": "float"
        },
        {
         "name": "pct_transacao_dia06_d7",
         "rawType": "float64",
         "type": "float"
        },
        {
         "name": "pct_transacao_dia07_d7",
         "rawType": "float64",
         "type": "float"
        },
        {
         "name": "pct_transacao_manha_d7",
         "rawType": "float64",
         "type": "float"
        },
        {
         "name": "pct_transacao_tarde_d7",
         "rawType": "float64",
         "type": "float"
        },
        {
         "name": "pct_transacao_noite_d7",
         "rawType": "float64",
         "type": "float"
        },
        {
         "name": "media_dias_recorrencia_d7",
         "rawType": "float64",
         "type": "float"
        },
        {
         "name": "mediana_dias_recorrencia_d7",
         "rawType": "float64",
         "type": "float"
        },
        {
         "name": "dias_primeira_iteracao_d14",
         "rawType": "float64",
         "type": "float"
        },
        {
         "name": "dias_ultima_iteracao_d14",
         "rawType": "float64",
         "type": "float"
        },
        {
         "name": "qtd_iteracoes_d14",
         "rawType": "float64",
         "type": "float"
        },
        {
         "name": "saldo_atual_d14",
         "rawType": "float64",
         "type": "float"
        },
        {
         "name": "pontos_acum_d14",
         "rawType": "float64",
         "type": "float"
        },
        {
         "name": "pontos_neg_d14",
         "rawType": "float64",
         "type": "float"
        },
        {
         "name": "frequencia_d14",
         "rawType": "float64",
         "type": "float"
        },
        {
         "name": "pontos_acum_dia_d14",
         "rawType": "float64",
         "type": "float"
        },
        {
         "name": "qtd_mensagens_d14",
         "rawType": "float64",
         "type": "float"
        },
        {
         "name": "qtd_resgate_poneis_d14",
         "rawType": "float64",
         "type": "float"
        },
        {
         "name": "mensagens_dia_d14",
         "rawType": "float64",
         "type": "float"
        },
        {
         "name": "pct_transacao_dia01_d14",
         "rawType": "float64",
         "type": "float"
        },
        {
         "name": "pct_transacao_dia02_d14",
         "rawType": "float64",
         "type": "float"
        },
        {
         "name": "pct_transacao_dia03_d14",
         "rawType": "float64",
         "type": "float"
        },
        {
         "name": "pct_transacao_dia04_d14",
         "rawType": "float64",
         "type": "float"
        },
        {
         "name": "pct_transacao_dia05_d14",
         "rawType": "float64",
         "type": "float"
        },
        {
         "name": "pct_transacao_dia06_d14",
         "rawType": "float64",
         "type": "float"
        },
        {
         "name": "pct_transacao_dia07_d14",
         "rawType": "float64",
         "type": "float"
        },
        {
         "name": "pct_transacao_manha_d14",
         "rawType": "float64",
         "type": "float"
        },
        {
         "name": "pct_transacao_tarde_d14",
         "rawType": "float64",
         "type": "float"
        },
        {
         "name": "pct_transacao_noite_d14",
         "rawType": "float64",
         "type": "float"
        },
        {
         "name": "media_dias_recorrencia_d14",
         "rawType": "float64",
         "type": "float"
        },
        {
         "name": "mediana_dias_recorrencia_d14",
         "rawType": "float64",
         "type": "float"
        },
        {
         "name": "dias_primeira_iteracao_d28",
         "rawType": "int64",
         "type": "integer"
        },
        {
         "name": "dias_ultima_iteracao_d28",
         "rawType": "int64",
         "type": "integer"
        },
        {
         "name": "qtd_iteracoes_d28",
         "rawType": "int64",
         "type": "integer"
        },
        {
         "name": "saldo_atual_d28",
         "rawType": "int64",
         "type": "integer"
        },
        {
         "name": "pontos_acum_d28",
         "rawType": "int64",
         "type": "integer"
        },
        {
         "name": "pontos_neg_d28",
         "rawType": "int64",
         "type": "integer"
        },
        {
         "name": "frequencia_d28",
         "rawType": "int64",
         "type": "integer"
        },
        {
         "name": "pontos_acum_dia_d28",
         "rawType": "float64",
         "type": "float"
        },
        {
         "name": "qtd_mensagens_d28",
         "rawType": "int64",
         "type": "integer"
        },
        {
         "name": "qtd_resgate_poneis_d28",
         "rawType": "int64",
         "type": "integer"
        },
        {
         "name": "mensagens_dia_d28",
         "rawType": "float64",
         "type": "float"
        },
        {
         "name": "pct_transacao_dia01_d28",
         "rawType": "float64",
         "type": "float"
        },
        {
         "name": "pct_transacao_dia02_d28",
         "rawType": "float64",
         "type": "float"
        },
        {
         "name": "pct_transacao_dia03_d28",
         "rawType": "float64",
         "type": "float"
        },
        {
         "name": "pct_transacao_dia04_d28",
         "rawType": "float64",
         "type": "float"
        },
        {
         "name": "pct_transacao_dia05_d28",
         "rawType": "float64",
         "type": "float"
        },
        {
         "name": "pct_transacao_dia06_d28",
         "rawType": "float64",
         "type": "float"
        },
        {
         "name": "pct_transacao_dia07_d28",
         "rawType": "float64",
         "type": "float"
        },
        {
         "name": "pct_transacao_manha_d28",
         "rawType": "float64",
         "type": "float"
        },
        {
         "name": "pct_transacao_tarde_d28",
         "rawType": "float64",
         "type": "float"
        },
        {
         "name": "pct_transacao_noite_d28",
         "rawType": "float64",
         "type": "float"
        },
        {
         "name": "media_dias_recorrencia_d28",
         "rawType": "float64",
         "type": "float"
        },
        {
         "name": "mediana_dias_recorrencia_d28",
         "rawType": "float64",
         "type": "float"
        },
        {
         "name": "flag_churn",
         "rawType": "int64",
         "type": "integer"
        }
       ],
       "conversionMethod": "pd.DataFrame",
       "ref": "3aedd857-6fbc-4438-bd26-f12bedcef535",
       "rows": [
        [
         "0",
         "2024-10-14",
         "000ff655-fa9f-4baa-a108-47f581ec52a1",
         "224",
         "17",
         "268",
         "686",
         "2686",
         "-2000",
         "28",
         "95.92857142857144",
         "236",
         "2",
         "8.428571428571429",
         "0.0",
         "0.208955223880597",
         "0.1604477611940298",
         "0.1455223880597015",
         "0.1455223880597015",
         "0.3395522388059701",
         "0.0",
         "1.0",
         "0.0",
         "0.0",
         "7.666666666666667",
         "2.0",
         null,
         null,
         null,
         null,
         null,
         null,
         null,
         null,
         null,
         null,
         null,
         null,
         null,
         null,
         null,
         null,
         null,
         null,
         null,
         null,
         null,
         null,
         null,
         null,
         null,
         null,
         null,
         null,
         null,
         null,
         null,
         null,
         null,
         null,
         null,
         null,
         null,
         null,
         null,
         null,
         null,
         null,
         null,
         null,
         null,
         null,
         "17",
         "17",
         "2",
         "51",
         "51",
         "0",
         "1",
         "51.0",
         "1",
         "0",
         "1.0",
         "0.0",
         "0.0",
         "0.0",
         "0.0",
         "0.0",
         "1.0",
         "0.0",
         "1.0",
         "0.0",
         "0.0",
         null,
         null,
         "1"
        ],
        [
         "1",
         "2024-05-27",
         "000ff655-fa9f-4baa-a108-47f581ec52a1",
         "84",
         "20",
         "263",
         "534",
         "2534",
         "-2000",
         "25",
         "101.36",
         "234",
         "2",
         "9.36",
         "0.0",
         "0.2129277566539923",
         "0.1634980988593156",
         "0.1406844106463878",
         "0.1482889733840304",
         "0.3346007604562737",
         "0.0",
         "1.0",
         "0.0",
         "0.0",
         "2.6666666666666665",
         "1.5",
         null,
         null,
         null,
         null,
         null,
         null,
         null,
         null,
         null,
         null,
         null,
         null,
         null,
         null,
         null,
         null,
         null,
         null,
         null,
         null,
         null,
         null,
         null,
         null,
         null,
         null,
         null,
         null,
         null,
         null,
         null,
         null,
         null,
         null,
         null,
         null,
         null,
         null,
         null,
         null,
         null,
         null,
         null,
         null,
         null,
         null,
         "28",
         "20",
         "6",
         "-897",
         "103",
         "-1000",
         "2",
         "51.5",
         "3",
         "0",
         "1.5",
         "0.0",
         "0.8333333333333334",
         "0.1666666666666666",
         "0.0",
         "0.0",
         "0.0",
         "0.0",
         "1.0",
         "0.0",
         "0.0",
         "8.0",
         "8.0",
         "0"
        ],
        [
         "2",
         "2024-06-24",
         "000ff655-fa9f-4baa-a108-47f581ec52a1",
         "112",
         "24",
         "266",
         "635",
         "2635",
         "-2000",
         "27",
         "97.5925925925926",
         "235",
         "2",
         "8.703703703703704",
         "0.0",
         "0.2105263157894736",
         "0.1616541353383458",
         "0.1466165413533834",
         "0.1466165413533834",
         "0.3345864661654135",
         "0.0",
         "1.0",
         "0.0",
         "0.0",
         "3.3846153846153846",
         "2.0",
         null,
         null,
         null,
         null,
         null,
         null,
         null,
         null,
         null,
         null,
         null,
         null,
         null,
         null,
         null,
         null,
         null,
         null,
         null,
         null,
         null,
         null,
         null,
         null,
         null,
         null,
         null,
         null,
         null,
         null,
         null,
         null,
         null,
         null,
         null,
         null,
         null,
         null,
         null,
         null,
         null,
         null,
         null,
         null,
         null,
         null,
         "26",
         "24",
         "3",
         "101",
         "101",
         "0",
         "2",
         "50.5",
         "1",
         "0",
         "0.5",
         "0.0",
         "0.0",
         "0.0",
         "0.6666666666666666",
         "0.0",
         "0.3333333333333333",
         "0.0",
         "1.0",
         "0.0",
         "0.0",
         "2.0",
         "2.0",
         "1"
        ],
        [
         "3",
         "2024-04-29",
         "000ff655-fa9f-4baa-a108-47f581ec52a1",
         "56",
         "3",
         "257",
         "1431",
         "2431",
         "-1000",
         "23",
         "105.69565217391305",
         "231",
         "2",
         "10.043478260869565",
         "0.0",
         "0.1984435797665369",
         "0.1634241245136186",
         "0.1439688715953307",
         "0.1517509727626459",
         "0.3424124513618677",
         "0.0",
         "1.0",
         "0.0",
         "0.0",
         "2.409090909090909",
         "1.0",
         "6.0",
         "3.0",
         "10.0",
         "157.0",
         "157.0",
         "0.0",
         "3.0",
         "52.333333333333336",
         "7.0",
         "0.0",
         "2.333333333333333",
         "0.0",
         "0.0",
         "0.2",
         "0.0",
         "0.5",
         "0.3",
         "0.0",
         "1.0",
         "0.0",
         "0.0",
         "1.5",
         "1.5",
         "12.0",
         "3.0",
         "18.0",
         "263.0",
         "263.0",
         "0.0",
         "5.0",
         "52.6",
         "13.0",
         "0.0",
         "2.6",
         "0.0",
         "0.0",
         "0.1111111111111111",
         "0.2222222222222222",
         "0.2777777777777778",
         "0.3888888888888889",
         "0.0",
         "1.0",
         "0.0",
         "0.0",
         "2.25",
         "2.0",
         "28",
         "3",
         "69",
         "1156",
         "1156",
         "0",
         "12",
         "96.33333333333331",
         "56",
         "1",
         "4.666666666666667",
         "0.0",
         "0.3478260869565217",
         "0.0869565217391304",
         "0.2608695652173913",
         "0.144927536231884",
         "0.1594202898550724",
         "0.0",
         "1.0",
         "0.0",
         "0.0",
         "2.272727272727273",
         "2.0",
         "0"
        ],
        [
         "4",
         "2024-04-01",
         "000ff655-fa9f-4baa-a108-47f581ec52a1",
         "28",
         "3",
         "188",
         "275",
         "1275",
         "-1000",
         "11",
         "115.9090909090909",
         "175",
         "1",
         "15.909090909090908",
         "0.0",
         "0.1436170212765957",
         "0.1914893617021276",
         "0.101063829787234",
         "0.1542553191489361",
         "0.4095744680851064",
         "0.0",
         "1.0",
         "0.0",
         "0.0",
         "2.5",
         "1.0",
         "7.0",
         "3.0",
         "71.0",
         "-87.0",
         "913.0",
         "-1000.0",
         "5.0",
         "182.6",
         "63.0",
         "1.0",
         "12.6",
         "0.0",
         "0.323943661971831",
         "0.1830985915492957",
         "0.1408450704225352",
         "0.1971830985915492",
         "0.1549295774647887",
         "0.0",
         "1.0",
         "0.0",
         "0.0",
         "1.0",
         "1.0",
         "13.0",
         "3.0",
         "183.0",
         "221.0",
         "1221.0",
         "-1000.0",
         "9.0",
         "135.66666666666666",
         "171.0",
         "1.0",
         "19.0",
         "0.0",
         "0.1256830601092896",
         "0.1967213114754098",
         "0.0983606557377049",
         "0.1584699453551912",
         "0.4207650273224044",
         "0.0",
         "1.0",
         "0.0",
         "0.0",
         "1.25",
         "1.0",
         "28",
         "3",
         "188",
         "275",
         "1275",
         "-1000",
         "11",
         "115.9090909090909",
         "175",
         "1",
         "15.909090909090908",
         "0.0",
         "0.1436170212765957",
         "0.1914893617021276",
         "0.101063829787234",
         "0.1542553191489361",
         "0.4095744680851064",
         "0.0",
         "1.0",
         "0.0",
         "0.0",
         "2.5",
         "1.0",
         "0"
        ]
       ],
       "shape": {
        "columns": 95,
        "rows": 5
       }
      },
      "text/html": [
       "<div>\n",
       "<style scoped>\n",
       "    .dataframe tbody tr th:only-of-type {\n",
       "        vertical-align: middle;\n",
       "    }\n",
       "\n",
       "    .dataframe tbody tr th {\n",
       "        vertical-align: top;\n",
       "    }\n",
       "\n",
       "    .dataframe thead th {\n",
       "        text-align: right;\n",
       "    }\n",
       "</style>\n",
       "<table border=\"1\" class=\"dataframe\">\n",
       "  <thead>\n",
       "    <tr style=\"text-align: right;\">\n",
       "      <th></th>\n",
       "      <th>dt_ref</th>\n",
       "      <th>id_cliente</th>\n",
       "      <th>dias_primeira_iteracao_life</th>\n",
       "      <th>dias_ultima_iteracao_life</th>\n",
       "      <th>qtd_iteracoes_life</th>\n",
       "      <th>saldo_atual_life</th>\n",
       "      <th>pontos_acum_life</th>\n",
       "      <th>pontos_neg_life</th>\n",
       "      <th>frequencia_life</th>\n",
       "      <th>pontos_acum_dia_life</th>\n",
       "      <th>...</th>\n",
       "      <th>pct_transacao_dia04_d28</th>\n",
       "      <th>pct_transacao_dia05_d28</th>\n",
       "      <th>pct_transacao_dia06_d28</th>\n",
       "      <th>pct_transacao_dia07_d28</th>\n",
       "      <th>pct_transacao_manha_d28</th>\n",
       "      <th>pct_transacao_tarde_d28</th>\n",
       "      <th>pct_transacao_noite_d28</th>\n",
       "      <th>media_dias_recorrencia_d28</th>\n",
       "      <th>mediana_dias_recorrencia_d28</th>\n",
       "      <th>flag_churn</th>\n",
       "    </tr>\n",
       "  </thead>\n",
       "  <tbody>\n",
       "    <tr>\n",
       "      <th>0</th>\n",
       "      <td>2024-10-14</td>\n",
       "      <td>000ff655-fa9f-4baa-a108-47f581ec52a1</td>\n",
       "      <td>224</td>\n",
       "      <td>17</td>\n",
       "      <td>268</td>\n",
       "      <td>686</td>\n",
       "      <td>2686</td>\n",
       "      <td>-2000</td>\n",
       "      <td>28</td>\n",
       "      <td>95.928571</td>\n",
       "      <td>...</td>\n",
       "      <td>0.000000</td>\n",
       "      <td>0.000000</td>\n",
       "      <td>1.000000</td>\n",
       "      <td>0.0</td>\n",
       "      <td>1.0</td>\n",
       "      <td>0.0</td>\n",
       "      <td>0.0</td>\n",
       "      <td>NaN</td>\n",
       "      <td>NaN</td>\n",
       "      <td>1</td>\n",
       "    </tr>\n",
       "    <tr>\n",
       "      <th>1</th>\n",
       "      <td>2024-05-27</td>\n",
       "      <td>000ff655-fa9f-4baa-a108-47f581ec52a1</td>\n",
       "      <td>84</td>\n",
       "      <td>20</td>\n",
       "      <td>263</td>\n",
       "      <td>534</td>\n",
       "      <td>2534</td>\n",
       "      <td>-2000</td>\n",
       "      <td>25</td>\n",
       "      <td>101.360000</td>\n",
       "      <td>...</td>\n",
       "      <td>0.000000</td>\n",
       "      <td>0.000000</td>\n",
       "      <td>0.000000</td>\n",
       "      <td>0.0</td>\n",
       "      <td>1.0</td>\n",
       "      <td>0.0</td>\n",
       "      <td>0.0</td>\n",
       "      <td>8.000000</td>\n",
       "      <td>8.0</td>\n",
       "      <td>0</td>\n",
       "    </tr>\n",
       "    <tr>\n",
       "      <th>2</th>\n",
       "      <td>2024-06-24</td>\n",
       "      <td>000ff655-fa9f-4baa-a108-47f581ec52a1</td>\n",
       "      <td>112</td>\n",
       "      <td>24</td>\n",
       "      <td>266</td>\n",
       "      <td>635</td>\n",
       "      <td>2635</td>\n",
       "      <td>-2000</td>\n",
       "      <td>27</td>\n",
       "      <td>97.592593</td>\n",
       "      <td>...</td>\n",
       "      <td>0.666667</td>\n",
       "      <td>0.000000</td>\n",
       "      <td>0.333333</td>\n",
       "      <td>0.0</td>\n",
       "      <td>1.0</td>\n",
       "      <td>0.0</td>\n",
       "      <td>0.0</td>\n",
       "      <td>2.000000</td>\n",
       "      <td>2.0</td>\n",
       "      <td>1</td>\n",
       "    </tr>\n",
       "    <tr>\n",
       "      <th>3</th>\n",
       "      <td>2024-04-29</td>\n",
       "      <td>000ff655-fa9f-4baa-a108-47f581ec52a1</td>\n",
       "      <td>56</td>\n",
       "      <td>3</td>\n",
       "      <td>257</td>\n",
       "      <td>1431</td>\n",
       "      <td>2431</td>\n",
       "      <td>-1000</td>\n",
       "      <td>23</td>\n",
       "      <td>105.695652</td>\n",
       "      <td>...</td>\n",
       "      <td>0.260870</td>\n",
       "      <td>0.144928</td>\n",
       "      <td>0.159420</td>\n",
       "      <td>0.0</td>\n",
       "      <td>1.0</td>\n",
       "      <td>0.0</td>\n",
       "      <td>0.0</td>\n",
       "      <td>2.272727</td>\n",
       "      <td>2.0</td>\n",
       "      <td>0</td>\n",
       "    </tr>\n",
       "    <tr>\n",
       "      <th>4</th>\n",
       "      <td>2024-04-01</td>\n",
       "      <td>000ff655-fa9f-4baa-a108-47f581ec52a1</td>\n",
       "      <td>28</td>\n",
       "      <td>3</td>\n",
       "      <td>188</td>\n",
       "      <td>275</td>\n",
       "      <td>1275</td>\n",
       "      <td>-1000</td>\n",
       "      <td>11</td>\n",
       "      <td>115.909091</td>\n",
       "      <td>...</td>\n",
       "      <td>0.101064</td>\n",
       "      <td>0.154255</td>\n",
       "      <td>0.409574</td>\n",
       "      <td>0.0</td>\n",
       "      <td>1.0</td>\n",
       "      <td>0.0</td>\n",
       "      <td>0.0</td>\n",
       "      <td>2.500000</td>\n",
       "      <td>1.0</td>\n",
       "      <td>0</td>\n",
       "    </tr>\n",
       "  </tbody>\n",
       "</table>\n",
       "<p>5 rows × 95 columns</p>\n",
       "</div>"
      ],
      "text/plain": [
       "       dt_ref                            id_cliente  \\\n",
       "0  2024-10-14  000ff655-fa9f-4baa-a108-47f581ec52a1   \n",
       "1  2024-05-27  000ff655-fa9f-4baa-a108-47f581ec52a1   \n",
       "2  2024-06-24  000ff655-fa9f-4baa-a108-47f581ec52a1   \n",
       "3  2024-04-29  000ff655-fa9f-4baa-a108-47f581ec52a1   \n",
       "4  2024-04-01  000ff655-fa9f-4baa-a108-47f581ec52a1   \n",
       "\n",
       "   dias_primeira_iteracao_life  dias_ultima_iteracao_life  qtd_iteracoes_life  \\\n",
       "0                          224                         17                 268   \n",
       "1                           84                         20                 263   \n",
       "2                          112                         24                 266   \n",
       "3                           56                          3                 257   \n",
       "4                           28                          3                 188   \n",
       "\n",
       "   saldo_atual_life  pontos_acum_life  pontos_neg_life  frequencia_life  \\\n",
       "0               686              2686            -2000               28   \n",
       "1               534              2534            -2000               25   \n",
       "2               635              2635            -2000               27   \n",
       "3              1431              2431            -1000               23   \n",
       "4               275              1275            -1000               11   \n",
       "\n",
       "   pontos_acum_dia_life  ...  pct_transacao_dia04_d28  \\\n",
       "0             95.928571  ...                 0.000000   \n",
       "1            101.360000  ...                 0.000000   \n",
       "2             97.592593  ...                 0.666667   \n",
       "3            105.695652  ...                 0.260870   \n",
       "4            115.909091  ...                 0.101064   \n",
       "\n",
       "   pct_transacao_dia05_d28  pct_transacao_dia06_d28  pct_transacao_dia07_d28  \\\n",
       "0                 0.000000                 1.000000                      0.0   \n",
       "1                 0.000000                 0.000000                      0.0   \n",
       "2                 0.000000                 0.333333                      0.0   \n",
       "3                 0.144928                 0.159420                      0.0   \n",
       "4                 0.154255                 0.409574                      0.0   \n",
       "\n",
       "   pct_transacao_manha_d28  pct_transacao_tarde_d28  pct_transacao_noite_d28  \\\n",
       "0                      1.0                      0.0                      0.0   \n",
       "1                      1.0                      0.0                      0.0   \n",
       "2                      1.0                      0.0                      0.0   \n",
       "3                      1.0                      0.0                      0.0   \n",
       "4                      1.0                      0.0                      0.0   \n",
       "\n",
       "   media_dias_recorrencia_d28  mediana_dias_recorrencia_d28  flag_churn  \n",
       "0                         NaN                           NaN           1  \n",
       "1                    8.000000                           8.0           0  \n",
       "2                    2.000000                           2.0           1  \n",
       "3                    2.272727                           2.0           0  \n",
       "4                    2.500000                           1.0           0  \n",
       "\n",
       "[5 rows x 95 columns]"
      ]
     },
     "execution_count": 24,
     "metadata": {},
     "output_type": "execute_result"
    }
   ],
   "source": [
    "df = pd.read_csv(\"data/abt.csv\", sep=\",\")\n",
    "\n",
    "feature = df.columns[2:-1]\n",
    "target = \"flag_churn\"\n",
    "\n",
    "X = df[feature]\n",
    "Y = df[target]\n",
    "\n",
    "df.head()"
   ]
  },
  {
   "cell_type": "code",
   "execution_count": 25,
   "metadata": {},
   "outputs": [
    {
     "name": "stdout",
     "output_type": "stream",
     "text": [
      "Taxa de resposta train:  0.4349568434032059\n",
      "Taxa de resposta test:  0.4315659679408138\n"
     ]
    }
   ],
   "source": [
    "X_train, X_test, Y_train, Y_test = model_selection.train_test_split(X, Y, test_size=0.2, random_state=42)\n",
    "\n",
    "print(\"Taxa de resposta train: \", Y_train.mean())\n",
    "print(\"Taxa de resposta test: \", Y_test.mean())"
   ]
  },
  {
   "cell_type": "code",
   "execution_count": 26,
   "metadata": {},
   "outputs": [
    {
     "name": "stderr",
     "output_type": "stream",
     "text": [
      "2025/03/26 16:50:00 WARNING mlflow.utils.autologging_utils: MLflow autologging encountered a warning: \"c:\\Users\\Leo\\Documents\\Sites\\Data Analysis Projects\\MLFlow\\Model Churn\\.venv\\Lib\\site-packages\\mlflow\\types\\utils.py:452: UserWarning: Hint: Inferred schema contains integer column(s). Integer columns in Python cannot represent missing values. If your input data contains missing values at inference time, it will be encoded as floats and will cause a schema enforcement error. The best way to avoid this problem is to infer the model schema based on a realistic data sample (training dataset) that includes missing values. Alternatively, you can declare integer columns as doubles (float64) whenever these columns may have missing values. See `Handling Integers With Missing Values <https://www.mlflow.org/docs/latest/models.html#handling-integers-with-missing-values>`_ for more details.\"\n",
      "2025/03/26 16:50:01 WARNING mlflow.utils.autologging_utils: MLflow autologging encountered a warning: \"c:\\Users\\Leo\\Documents\\Sites\\Data Analysis Projects\\MLFlow\\Model Churn\\.venv\\Lib\\site-packages\\mlflow\\types\\utils.py:452: UserWarning: Hint: Inferred schema contains integer column(s). Integer columns in Python cannot represent missing values. If your input data contains missing values at inference time, it will be encoded as floats and will cause a schema enforcement error. The best way to avoid this problem is to infer the model schema based on a realistic data sample (training dataset) that includes missing values. Alternatively, you can declare integer columns as doubles (float64) whenever these columns may have missing values. See `Handling Integers With Missing Values <https://www.mlflow.org/docs/latest/models.html#handling-integers-with-missing-values>`_ for more details.\"\n",
      "2025/03/26 16:50:05 WARNING mlflow.utils.environment: Failed to resolve installed pip version. ``pip`` will be added to conda.yaml environment spec without a version specifier.\n",
      "2025/03/26 16:50:05 WARNING mlflow.utils.autologging_utils: MLflow autologging encountered a warning: \"c:\\Users\\Leo\\Documents\\Sites\\Data Analysis Projects\\MLFlow\\Model Churn\\.venv\\Lib\\site-packages\\mlflow\\types\\utils.py:452: UserWarning: Hint: Inferred schema contains integer column(s). Integer columns in Python cannot represent missing values. If your input data contains missing values at inference time, it will be encoded as floats and will cause a schema enforcement error. The best way to avoid this problem is to infer the model schema based on a realistic data sample (training dataset) that includes missing values. Alternatively, you can declare integer columns as doubles (float64) whenever these columns may have missing values. See `Handling Integers With Missing Values <https://www.mlflow.org/docs/latest/models.html#handling-integers-with-missing-values>`_ for more details.\"\n",
      "2025/03/26 16:50:05 WARNING mlflow.utils.autologging_utils: MLflow autologging encountered a warning: \"c:\\Users\\Leo\\Documents\\Sites\\Data Analysis Projects\\MLFlow\\Model Churn\\.venv\\Lib\\site-packages\\mlflow\\types\\utils.py:452: UserWarning: Hint: Inferred schema contains integer column(s). Integer columns in Python cannot represent missing values. If your input data contains missing values at inference time, it will be encoded as floats and will cause a schema enforcement error. The best way to avoid this problem is to infer the model schema based on a realistic data sample (training dataset) that includes missing values. Alternatively, you can declare integer columns as doubles (float64) whenever these columns may have missing values. See `Handling Integers With Missing Values <https://www.mlflow.org/docs/latest/models.html#handling-integers-with-missing-values>`_ for more details.\"\n"
     ]
    },
    {
     "name": "stdout",
     "output_type": "stream",
     "text": [
      "🏃 View run rumbling-grub-759 at: http://localhost:5000/#/experiments/259446872080643201/runs/253988b14cb9406ba18f9af39b8e413d\n",
      "🧪 View experiment at: http://localhost:5000/#/experiments/259446872080643201\n"
     ]
    }
   ],
   "source": [
    "with mlflow.start_run():\n",
    "\n",
    "    mlflow.sklearn.autolog()\n",
    "\n",
    "    clf = ensemble.RandomForestClassifier(n_estimators=100, min_samples_leaf=25 ,random_state=42)\n",
    "    clf.fit(X_train, Y_train)\n",
    "\n",
    "    Y_train_pred = clf.predict(X_train)\n",
    "    Y_test_pred = clf.predict(X_test)\n",
    "\n",
    "    accuracy_train = metrics.accuracy_score(Y_train, Y_train_pred)\n",
    "    accuracy_test = metrics.accuracy_score(Y_test, Y_test_pred)\n",
    "\n",
    "    mlflow.log_metrics({\"accuracy_train\": accuracy_train, \"accuracy_test\": accuracy_test})"
   ]
  },
  {
   "cell_type": "code",
   "execution_count": 27,
   "metadata": {},
   "outputs": [
    {
     "name": "stdout",
     "output_type": "stream",
     "text": [
      "Accuracy train:  0.7540073982737361\n",
      "Accuracy test:  0.717632552404439\n"
     ]
    }
   ],
   "source": [
    "print(\"Accuracy train: \", accuracy_train)\n",
    "print(\"Accuracy test: \", accuracy_test)"
   ]
  }
 ],
 "metadata": {
  "kernelspec": {
   "display_name": ".venv",
   "language": "python",
   "name": "python3"
  },
  "language_info": {
   "codemirror_mode": {
    "name": "ipython",
    "version": 3
   },
   "file_extension": ".py",
   "mimetype": "text/x-python",
   "name": "python",
   "nbconvert_exporter": "python",
   "pygments_lexer": "ipython3",
   "version": "3.11.11"
  }
 },
 "nbformat": 4,
 "nbformat_minor": 2
}
